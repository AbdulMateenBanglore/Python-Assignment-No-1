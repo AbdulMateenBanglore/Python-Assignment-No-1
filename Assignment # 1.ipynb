{
 "cells": [
  {
   "cell_type": "code",
   "execution_count": 1,
   "metadata": {},
   "outputs": [
    {
     "name": "stdout",
     "output_type": "stream",
     "text": [
      "Twinkle, twinkle, little star,\n",
      "    How I wonder what you are!\n",
      "        Up above the world so high,\n",
      "        Like a diamond in the sky. \n",
      "Twinkle, twinkle, little star,\n",
      "    How I wonder what you are\n"
     ]
    }
   ],
   "source": [
    "# 1. Write a Python program to print the following string in a specific format\n",
    "\n",
    "print(\"Twinkle, twinkle, little star,\\n    How I wonder what you are!\\n        Up above the world so high,\\n        Like a diamond in the sky. \\nTwinkle, twinkle, little star,\\n    How I wonder what you are\")"
   ]
  },
  {
   "cell_type": "code",
   "execution_count": 2,
   "metadata": {},
   "outputs": [
    {
     "name": "stdout",
     "output_type": "stream",
     "text": [
      " We are using Python 3.7\n"
     ]
    }
   ],
   "source": [
    "# 2. Write a Python program to get the Python version you are using\n",
    "\n",
    "print ( \" We are using Python 3.7\")"
   ]
  },
  {
   "cell_type": "code",
   "execution_count": 17,
   "metadata": {},
   "outputs": [
    {
     "name": "stdout",
     "output_type": "stream",
     "text": [
      "Today's date and time is:\n",
      "2019-11-05 03:50:37.239435\n",
      "\n"
     ]
    }
   ],
   "source": [
    "# 3. Write a Python program to display the current date and time.\n",
    "\n",
    "import datetime\n",
    "print(\"Today's date and time is:\")\n",
    "print(datetime.datetime.today())\n",
    "print()"
   ]
  },
  {
   "cell_type": "code",
   "execution_count": 12,
   "metadata": {},
   "outputs": [
    {
     "name": "stdout",
     "output_type": "stream",
     "text": [
      "Enter radius of circle : 4\n",
      "Area of Circle is : \n",
      "50.272\n"
     ]
    }
   ],
   "source": [
    "# 4. Write a Python program which accepts the radius of a circle from the user and compute the area.\n",
    "\n",
    "radius = input(\"Enter radius of circle : \")\n",
    "radius_circle = float(radius)\n",
    "area_circle = 3.142 * radius_circle * radius_circle\n",
    "print(\"Area of Circle is : \")\n",
    "print(area_circle)"
   ]
  },
  {
   "cell_type": "code",
   "execution_count": 15,
   "metadata": {},
   "outputs": [
    {
     "name": "stdout",
     "output_type": "stream",
     "text": [
      "Please enter your first name Abdul\n",
      "Please enter your last name Mateen\n",
      "Mateen Abdul\n"
     ]
    }
   ],
   "source": [
    "''' 5. Write a Python program which accepts the user's first and last name \n",
    "       and print them in reverse order with a space between them.'''\n",
    "\n",
    "first_name = input(\"Please enter your first name \")\n",
    "last_name = input(\"Please enter your last name \")\n",
    "print(last_name + \" \" + first_name )"
   ]
  },
  {
   "cell_type": "code",
   "execution_count": 16,
   "metadata": {},
   "outputs": [
    {
     "name": "stdout",
     "output_type": "stream",
     "text": [
      "Please enter your first value: 2\n",
      "Please enter your last value: 3\n",
      "Total value  is : \n",
      "5\n"
     ]
    }
   ],
   "source": [
    "# 6. Write a python program which takes two inputs from user and print them addition\n",
    "\n",
    "first_value = input(\"Please enter your first value: \")\n",
    "second_value = input(\"Please enter your last value: \")\n",
    "total = int(first_value) + int(second_value)\n",
    "print(\"Total value  is : \")\n",
    "print(total)\n"
   ]
  },
  {
   "cell_type": "code",
   "execution_count": null,
   "metadata": {},
   "outputs": [],
   "source": []
  }
 ],
 "metadata": {
  "kernelspec": {
   "display_name": "Python 3",
   "language": "python",
   "name": "python3"
  },
  "language_info": {
   "codemirror_mode": {
    "name": "ipython",
    "version": 3
   },
   "file_extension": ".py",
   "mimetype": "text/x-python",
   "name": "python",
   "nbconvert_exporter": "python",
   "pygments_lexer": "ipython3",
   "version": "3.7.4"
  }
 },
 "nbformat": 4,
 "nbformat_minor": 2
}
