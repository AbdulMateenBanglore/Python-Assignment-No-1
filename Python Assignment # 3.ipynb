{
 "cells": [
  {
   "cell_type": "code",
   "execution_count": 2,
   "metadata": {},
   "outputs": [
    {
     "name": "stdout",
     "output_type": "stream",
     "text": [
      "Enter first value:2\n",
      "Enter second value:4\n",
      "Enter operator:^\n",
      "16.0 Answer\n"
     ]
    }
   ],
   "source": [
    "# 1. Make a calculator using Python with addition , subtraction , multiplication , division and power.\n",
    "\n",
    "import math\n",
    "\n",
    "val1=int(input(\"Enter first value:\"))\n",
    "val2=int(input(\"Enter second value:\"))\n",
    "operator=input(\"Enter operator:\")\n",
    "if operator=='+':\n",
    "    val=val1+val2\n",
    "    print(val,\"Answer\")\n",
    "elif operator=='-':\n",
    "    val=val1-val2\n",
    "    print(val,\"Answer\")\n",
    "elif operator=='*':\n",
    "    val=val1*val2\n",
    "    print(val,\"Answer\")\n",
    "elif operator=='/':\n",
    "    val=val1/val2\n",
    "    print(val,\"Answer\")\n",
    "elif operator=='^':\n",
    "    val= math.pow(val1, val2)\n",
    "    print(val,\"Answer\")\n",
    "else:\n",
    "    print(\"Enter correct operator:\")"
   ]
  },
  {
   "cell_type": "code",
   "execution_count": null,
   "metadata": {},
   "outputs": [],
   "source": []
  },
  {
   "cell_type": "code",
   "execution_count": 39,
   "metadata": {},
   "outputs": [
    {
     "name": "stdout",
     "output_type": "stream",
     "text": [
      "Before adding Key: {0: 10, 1: 20}\n",
      "After adding Key: {0: 10, 1: 20, 2: 30}\n"
     ]
    }
   ],
   "source": [
    "# 3. Write a Python script to add a key to a dictionary\n",
    "\n",
    "dictionary = {0:10, 1:20}\n",
    "print(\"Before adding Key:\",dictionary)\n",
    "dictionary.update({2:30})\n",
    "print(\"After adding Key:\",dictionary)"
   ]
  },
  {
   "cell_type": "code",
   "execution_count": 4,
   "metadata": {},
   "outputs": [
    {
     "name": "stdout",
     "output_type": "stream",
     "text": [
      "Total after sum of values: 140\n"
     ]
    }
   ],
   "source": [
    "# 4. Write a Python program to sum all the numeric items in a dictionary\n",
    "\n",
    "dictionary = {\"Value1\":40,\"Value2\":20,\"Value3\":30,\"Value4\":50}\n",
    "print(\"Total after sum of values:\",sum(dictionary.values()))\n"
   ]
  },
  {
   "cell_type": "code",
   "execution_count": 19,
   "metadata": {},
   "outputs": [
    {
     "name": "stdout",
     "output_type": "stream",
     "text": [
      "Duplicates elements of list: [3, 'abc', 'mateen', 9, 12]\n"
     ]
    }
   ],
   "source": [
    "# 5. Write a program to identify duplicate values from list\n",
    "\n",
    "list = [ 3, 6, 9, 12, 3, 30, 'abc','mateen','zack','abc','mateen',15, 9, 45, 36, 12, 12]\n",
    "dupItems = []\n",
    "uniqItems = {}\n",
    "for x in list:\n",
    "   if x not in uniqItems:\n",
    "      uniqItems[x] = 1\n",
    "   else:\n",
    "      if uniqItems[x] == 1:\n",
    "         dupItems.append(x)\n",
    "      uniqItems[x] += 1\n",
    "print(\"Duplicates elements of list:\",dupItems)"
   ]
  },
  {
   "cell_type": "code",
   "execution_count": 10,
   "metadata": {},
   "outputs": [
    {
     "name": "stdout",
     "output_type": "stream",
     "text": [
      "Enter numeric key:5\n",
      "Key is present in the dictionary\n"
     ]
    }
   ],
   "source": [
    "# 6. Write a Python script to check if a given key already exists in a dictionary\n",
    "\n",
    "d = {1: 10, 2: 20, 3: 30, 4: 40, 5: 50, 6: 60}\n",
    "\n",
    "x = int(input(\"Enter numeric key:\"))\n",
    "\n",
    "if x in d:\n",
    "      print('Key is present in the dictionary')\n",
    "else:\n",
    "      print('Key is not present in the dictionary')\n"
   ]
  },
  {
   "cell_type": "code",
   "execution_count": null,
   "metadata": {},
   "outputs": [],
   "source": []
  },
  {
   "cell_type": "code",
   "execution_count": null,
   "metadata": {},
   "outputs": [],
   "source": []
  }
 ],
 "metadata": {
  "kernelspec": {
   "display_name": "Python 3",
   "language": "python",
   "name": "python3"
  },
  "language_info": {
   "codemirror_mode": {
    "name": "ipython",
    "version": 3
   },
   "file_extension": ".py",
   "mimetype": "text/x-python",
   "name": "python",
   "nbconvert_exporter": "python",
   "pygments_lexer": "ipython3",
   "version": "3.7.4"
  }
 },
 "nbformat": 4,
 "nbformat_minor": 2
}
