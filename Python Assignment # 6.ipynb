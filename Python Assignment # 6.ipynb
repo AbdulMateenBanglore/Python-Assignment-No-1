{
 "cells": [
  {
   "cell_type": "markdown",
   "metadata": {},
   "source": [
    "# Question 1:Define Object Oriented Programming Language?  \n",
    "\n",
    "Object-oriented programming (OOP) refers to a type of computer programming (software design) in which programmers define not only the data type of a data structure, but also the types of operations (functions) that can be applied to the data structure."
   ]
  },
  {
   "cell_type": "markdown",
   "metadata": {},
   "source": [
    "# Question 2:List down the Benefits of OOP?\n",
    "\n",
    "1. Modularity for easier troubleshooting\n",
    "2. Reuse of code through inheritance\n",
    "3. Flexibility through polymorphism\n",
    "4. Effective problem solving\n"
   ]
  },
  {
   "cell_type": "markdown",
   "metadata": {},
   "source": [
    "# Question 3:Differentiate between function and method?\n",
    "\n",
    "A function is a piece of code that is called by name. It can be passed data to operate on (i.e. the parameters) and can optionally return data (the return value). All data that is passed to a function is explicitly passed.\n",
    "\n",
    "A method is a piece of code that is called by a name that is associated with an object. In most respects it is identical to a function except for two key differences:\n",
    "\n",
    "A method is implicitly passed the object on which it was called.\n",
    "A method is able to operate on data that is contained within the class (remembering that an object is an instance of a class - the class is the definition, the object is an instance of that data)."
   ]
  },
  {
   "cell_type": "markdown",
   "metadata": {},
   "source": [
    "# Question 4:\n",
    "Define the following terms:\n",
    "1. Class\n",
    " a class is a blueprint for creating objects (a particular data structure), providing initial values for state (member variables or attributes), and implementations of behavior (member functions or methods).\n",
    "2. Object\n",
    " objects are the things you think about first in designing a program and they are also the units of code that are eventually derived from the process. Each object is an instance of a particular class or subclass with the class's own methods or procedures and data variables.\n",
    "3. Attribute\n",
    " classes and objects have attributes. Attributes are data stored inside a class or instance and represent the state or quality of the class or instance. In short, attributes store information about the instance.\n",
    "4. Behavior\n",
    " The behavior of an object is defined by its methods, which are the functions and subroutines defined within the object class. Without class methods, a class would simply be a structure. Methods determine what type of functionality a class has, how it modifies its data, and its overall behavior.\n"
   ]
  },
  {
   "cell_type": "code",
   "execution_count": 10,
   "metadata": {},
   "outputs": [
    {
     "name": "stdout",
     "output_type": "stream",
     "text": [
      "Car1:\n",
      "<bound method Car.display of <__main__.Car object at 0x000000668F3A4608>>\n",
      "<bound method Car.toyota of <__main__.Car object at 0x000000668F3A4608>>\n",
      "Car2:\n",
      "<bound method Car.display of <__main__.Car object at 0x000000668F2E4AC8>>\n",
      "<bound method Car.toyota of <__main__.Car object at 0x000000668F2E4AC8>>\n",
      "Car3:\n",
      "<bound method Car.display of <__main__.Car object at 0x000000668F3A6CC8>>\n",
      "<bound method Car.honda of <__main__.Car object at 0x000000668F3A4608>>\n",
      "Car4:\n",
      "<bound method Car.display of <__main__.Car object at 0x000000668F3A6108>>\n",
      "Car5:\n",
      "<bound method Car.display of <__main__.Car object at 0x000000668C980E88>>\n"
     ]
    }
   ],
   "source": [
    "''' Question 5: Write a code in python in which create a class named it Car which have 5 attributes\n",
    "such like (model, color and name etc.) and 3 methods. And create 5 object instance from that class.'''\n",
    "\n",
    "class Car():\n",
    "    def __init__(self,model,color,name,company,mileage):     #attributes\n",
    "        self.model = model\n",
    "        self.color = color\n",
    "        self.name = name\n",
    "        self.company = company\n",
    "        self.mileage = mileage\n",
    "        \n",
    "    def display(self):\n",
    "        print (self.model,self.color,self.name,self.company,self.mileage) \n",
    "        \n",
    "    def toyota(self):\n",
    "        print (\"this is a toyota's car\") \n",
    "        \n",
    "    def honda(self):\n",
    "        print (\"this is a honda's car\") \n",
    "        \n",
    "        \n",
    "car1 = Car(\"2012\",\"black\",\"corolla\",\"toyota\",\"12 km\")\n",
    "car2 = Car(\"2013\",\"white\",\"city\",\"toyota\",\"13 km\")\n",
    "car3 = Car(\"2014\",\"gun metallic\",\"civic\",\"honda\",\"14 km\")\n",
    "car4 = Car(\"2015\",\"ice blue\",\"sunny\",\"nissan\",\"15 km\")\n",
    "car5 = Car(\"2016\",\"grey\",\"hubrid\",\"kia\",\"19 km\")\n",
    "\n",
    "\n",
    "print(\"Car1:\")\n",
    "print(car1.display)\n",
    "print(car1.toyota)\n",
    "print(\"Car2:\")\n",
    "print(car2.display)\n",
    "print(car2.toyota)\n",
    "print(\"Car3:\")\n",
    "print(car3.display)\n",
    "print(car1.honda)\n",
    "print(\"Car4:\")\n",
    "print(car4.display)\n",
    "print(\"Car5:\")\n",
    "print(car5.display)"
   ]
  },
  {
   "cell_type": "code",
   "execution_count": null,
   "metadata": {},
   "outputs": [],
   "source": []
  }
 ],
 "metadata": {
  "kernelspec": {
   "display_name": "Python 3",
   "language": "python",
   "name": "python3"
  },
  "language_info": {
   "codemirror_mode": {
    "name": "ipython",
    "version": 3
   },
   "file_extension": ".py",
   "mimetype": "text/x-python",
   "name": "python",
   "nbconvert_exporter": "python",
   "pygments_lexer": "ipython3",
   "version": "3.7.4"
  }
 },
 "nbformat": 4,
 "nbformat_minor": 2
}
