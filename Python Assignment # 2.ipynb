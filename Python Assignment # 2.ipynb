{
 "cells": [
  {
   "cell_type": "code",
   "execution_count": 9,
   "metadata": {},
   "outputs": [
    {
     "name": "stdout",
     "output_type": "stream",
     "text": [
      "Enter Math Marks: 50\n",
      "Enter English Marks: 60\n",
      "Enter Urdu Marks: 67\n",
      "Enter Physics Marks: 82\n",
      "Enter Chemistry Marks: 53\n",
      "===Your Total Marks Is :\n",
      "312\n",
      "===Your Percentage Is :\n",
      "62.4\n",
      "Your Grade is : B\n"
     ]
    }
   ],
   "source": [
    "#  1. Write a program which takes 5 inputs from user for different subject’s marks, total it \n",
    "#     and generate mark sheet using grades ?\"\"\"\n",
    "\n",
    "math = int(input(\"Enter Math Marks: \"))\n",
    "english = int(input(\"Enter English Marks: \"))\n",
    "urdu = int(input(\"Enter Urdu Marks: \"))\n",
    "physics = int(input(\"Enter Physics Marks: \"))\n",
    "chemistry = int(input(\"Enter Chemistry Marks: \"))\n",
    "\n",
    "total = math + english + urdu + physics + chemistry\n",
    "print(\"===Your Total Marks Is :\")\n",
    "print(total)\n",
    "\n",
    "per = ((total/500) * 100)\n",
    "\n",
    "print(\"===Your Percentage Is :\")\n",
    "print(per)\n",
    "\n",
    "if per >= 80 and per < 100 :\n",
    "    print(\"Your Grade is : A+\")\n",
    "elif  per >= 70 and per < 80:\n",
    "    print(\"Your Grade is : A\")\n",
    "elif  per >= 60 and per < 70:\n",
    "    print(\"Your Grade is : B\")\n",
    "elif per >= 50 and per < 60 :\n",
    "    print(\"Your Grade is : C\")\n",
    "elif per >= 0 and per < 50 :\n",
    "    print(\"Your are Fail\")\n",
    "else:\n",
    "    print(\"You have given inappropriate marks\")"
   ]
  },
  {
   "cell_type": "code",
   "execution_count": 14,
   "metadata": {},
   "outputs": [
    {
     "name": "stdout",
     "output_type": "stream",
     "text": [
      "Enter your Number7\n",
      "Number is odd\n"
     ]
    }
   ],
   "source": [
    "# 2. Write a program which take input from user and identify that the given number is even or odd?\n",
    "\n",
    "number = int(input(\"Enter your Number\"))\n",
    "if (number % 2) == 0 :\n",
    "  print(\"Number is Even\")\n",
    "else :\n",
    "  print(\"Number is odd\")"
   ]
  },
  {
   "cell_type": "code",
   "execution_count": 21,
   "metadata": {},
   "outputs": [
    {
     "name": "stdout",
     "output_type": "stream",
     "text": [
      "The length of given list is : 6\n"
     ]
    }
   ],
   "source": [
    "# 3. Write a program which print the length of the list?\n",
    "\n",
    "arr = [\"Ali\",\"Haider\",\"Salman\",25,False,0.9]\n",
    "print(\"The length of given list is :\",len(arr))\n"
   ]
  },
  {
   "cell_type": "code",
   "execution_count": 22,
   "metadata": {},
   "outputs": [
    {
     "name": "stdout",
     "output_type": "stream",
     "text": [
      "The sum of given list is : 98.6\n"
     ]
    }
   ],
   "source": [
    "# 4. Write a Python program to sum all the numeric items in a list?\n",
    "\n",
    "arr = [19,10.1,42,25,1.6,0.9]\n",
    "print(\"The sum of given list is :\" ,sum(arr))"
   ]
  },
  {
   "cell_type": "code",
   "execution_count": 23,
   "metadata": {},
   "outputs": [
    {
     "name": "stdout",
     "output_type": "stream",
     "text": [
      "The sum of given list is : 42\n"
     ]
    }
   ],
   "source": [
    "# 5. Write a Python program to get the largest number from a numeric list.\n",
    "\n",
    "arr = [19,10.1,42,25,1.6,0.9]\n",
    "print(\"The Largest Number of given list is :\" ,max(arr))"
   ]
  },
  {
   "cell_type": "code",
   "execution_count": 47,
   "metadata": {},
   "outputs": [
    {
     "name": "stdout",
     "output_type": "stream",
     "text": [
      "1\n",
      "1\n",
      "2\n",
      "3\n"
     ]
    }
   ],
   "source": [
    "#  6. Take a list, say for example this one:\n",
    "#  a = [1, 1, 2, 3, 5, 8, 13, 21, 34, 55, 89]\n",
    "#  and write a program that prints out all the elements of the list that are less than 5.\n",
    "\n",
    "a = [1, 1, 2, 3, 5, 8, 13, 21, 34, 55, 89]\n",
    "\n",
    "for i in a:\n",
    "\n",
    "    if i < 5:\n",
    "\n",
    "        print(i)\n",
    " "
   ]
  },
  {
   "cell_type": "code",
   "execution_count": null,
   "metadata": {},
   "outputs": [],
   "source": []
  },
  {
   "cell_type": "code",
   "execution_count": null,
   "metadata": {},
   "outputs": [],
   "source": []
  },
  {
   "cell_type": "code",
   "execution_count": null,
   "metadata": {},
   "outputs": [],
   "source": []
  }
 ],
 "metadata": {
  "kernelspec": {
   "display_name": "Python 3",
   "language": "python",
   "name": "python3"
  },
  "language_info": {
   "codemirror_mode": {
    "name": "ipython",
    "version": 3
   },
   "file_extension": ".py",
   "mimetype": "text/x-python",
   "name": "python",
   "nbconvert_exporter": "python",
   "pygments_lexer": "ipython3",
   "version": "3.7.4"
  }
 },
 "nbformat": 4,
 "nbformat_minor": 2
}
