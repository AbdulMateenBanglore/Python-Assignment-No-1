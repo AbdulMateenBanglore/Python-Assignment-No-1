{
 "cells": [
  {
   "cell_type": "code",
   "execution_count": 11,
   "metadata": {},
   "outputs": [
    {
     "name": "stdout",
     "output_type": "stream",
     "text": [
      "Information of dictionary:\n",
      " {'first_name': 'Abdul', 'last_name': 'Mateen', 'city:': 'Karachi', 'age:': 21}\n",
      "After adding (qualification) key value in dictionary:\n",
      " {'first_name': 'Abdul', 'last_name': 'Mateen', 'city:': 'Karachi', 'age:': 21, 'qualification:': 'Inter'}\n",
      "After updating (qualification) key value in dictionary:\n",
      " {'first_name': 'Abdul', 'last_name': 'Mateen', 'city:': 'Karachi', 'age:': 21, 'qualification:': 'BSCS'}\n",
      "After deleting (qualification) key value in dictionary:\n",
      " {'first_name': 'Abdul', 'last_name': 'Mateen', 'city:': 'Karachi', 'age:': 21}\n"
     ]
    }
   ],
   "source": [
    "'''\n",
    "Question1:\n",
    "Use a dictionary to store information about a person you know. Store their first name, last name, age, and \n",
    "the city in which they live. You should have keys such as first_name, last_name, age, and city. Print each \n",
    "piece of information stored in your dictionary. Add a new key value pair about qualification then update \n",
    "the qualification value to high academic level then delete it.\n",
    "'''\n",
    "person = {\n",
    "    \"first_name\": \"Abdul\",\n",
    "    \"last_name\": \"Mateen\", \n",
    "    \"city:\": \"Karachi\",\n",
    "    \"age:\":21\n",
    "}\n",
    "print(\"Information of dictionary:\\n\",person)\n",
    "person[\"qualification:\"] = \"Inter\"\n",
    "print(\"After adding (qualification) key value in dictionary:\\n\",person)\n",
    "person[\"qualification:\"] = \"BSCS\"\n",
    "print(\"After updating (qualification) key value in dictionary:\\n\",person)\n",
    "del person[\"qualification:\"]\n",
    "print(\"After deleting (qualification) key value in dictionary:\\n\",person)"
   ]
  },
  {
   "cell_type": "code",
   "execution_count": 25,
   "metadata": {},
   "outputs": [
    {
     "name": "stdout",
     "output_type": "stream",
     "text": [
      "{'Karachi:': {'Country:': 'Pakistan', 'Population:': 20000000, 'Fact:': 'largest city of Pakistan.'}, 'Delhi:': {'Country:': 'India', 'Population:': 900000, 'Fact:': 'Capital of India.'}, 'Sialkot:': {'Country:': 'Pakistan', 'Population:': 700000, 'Fact:': \"Manufactures 55 % of world's soccer balls.\"}}\n"
     ]
    }
   ],
   "source": [
    "'''\n",
    "Question2:\n",
    "Make a dictionary called cities. Use the names of three cities as keys in your dictionary. Create\n",
    "a dictionary of information about each city and include the country that the city is in, its\n",
    "approximate population, and one fact about that city. The keys for each city’s dictionary should\n",
    "be something like country, population, and fact. Print the name of each city and all of the \n",
    "information you have stored about it.\n",
    "'''\n",
    "cities = {\n",
    "    \"Karachi:\": {\n",
    "        \"Country:\":\"Pakistan\",\n",
    "        \"Population:\":20000000,\n",
    "        \"Fact:\":\"largest city of Pakistan.\"\n",
    "    },\n",
    "    \"Delhi:\":{\n",
    "        \"Country:\":\"India\",\n",
    "        \"Population:\":900000,\n",
    "        \"Fact:\":\"Capital of India.\"\n",
    "    },\n",
    "    \"Sialkot:\":{\n",
    "        \"Country:\":\"Pakistan\",\n",
    "        \"Population:\":700000,\n",
    "        \"Fact:\":\"Manufactures 55 % of world's soccer balls.\"\n",
    "    }\n",
    "}\n",
    "\n",
    "print(cities)"
   ]
  },
  {
   "cell_type": "code",
   "execution_count": 81,
   "metadata": {},
   "outputs": [
    {
     "name": "stdout",
     "output_type": "stream",
     "text": [
      "What is your age\n",
      "Please write only category no. in input field:\n",
      "(1) Under 3\n",
      "(2) between 3 and 12\n",
      "(3) above 12\n",
      "3\n",
      "You select category: 3\n",
      "Your price is : $15\n"
     ]
    }
   ],
   "source": [
    "'''\n",
    "Question3:\n",
    "A movie theater charges different ticket prices depending on a person’s age. If a person is under the age of 3, \n",
    "the ticket is free; if they are between 3 and 12, the ticket is $10; and if they are over age 12, the ticket is\n",
    "$15. Write a loop in which you ask users their age, and then tell them the cost of their movie ticket.\n",
    "'''\n",
    "ticket_price = [\n",
    "    {\n",
    "    \"question\":\"What is your age\",\n",
    "    \"options.\":[\"(1) Under 3\",\"(2) between 3 and 12\",\"(3) above 12\"]    # list as a value of  dictionary\n",
    "    }, \n",
    "]\n",
    "\n",
    "for question in ticket_price:                          # for loop                    \n",
    "                                                                        \n",
    "    data = (question[\"question\"]) + \"\\n\" + \"Please write only category no. in input field:\" + \"\\n\" + (question[\"options.\"][0]) + \"\\n\"+ (question[\"options.\"][1]) + \"\\n\"+ (question[\"options.\"][2]) + \"\\n\" \n",
    "    \n",
    "    answer = int(input(data))\n",
    "    print(\"You select category:\" , answer)\n",
    "    if answer == (question[\"options.\"][0]):        \n",
    "     price = \"0\"\n",
    "    elif answer == (question[\"options.\"][1]):\n",
    "     price = \"$10\"\n",
    "    elif answer == (question[\"options.\"][2]):\n",
    "     price = \"$15\"\n",
    "print(\"Your price is :\" , price)"
   ]
  },
  {
   "cell_type": "code",
   "execution_count": 82,
   "metadata": {},
   "outputs": [
    {
     "name": "stdout",
     "output_type": "stream",
     "text": [
      "One of my favorite books is Alice in Wonderland\n"
     ]
    }
   ],
   "source": [
    "'''\n",
    "Question4:\n",
    "Write a function called favorite_book() that accepts one parameter, title. The function should print\n",
    "a message, such as One of my favorite books is Alice in Wonderland. Call the function, making sure to\n",
    "include a book title as an argument in the function call.\n",
    "'''\n",
    "def favorite_book(title):\n",
    " print(\"One of my favorite books is Alice in Wonderland\")\n",
    "    \n",
    "favorite_book(\"book\")"
   ]
  },
  {
   "cell_type": "code",
   "execution_count": 83,
   "metadata": {},
   "outputs": [
    {
     "name": "stdout",
     "output_type": "stream",
     "text": [
      "Hello! What is your name?\n",
      "Mateen\n",
      "Well, Mateen, I am thinking of a number between 1 and 30.\n",
      "Take a guess.\n",
      "30\n",
      "Hint! Your guess is higher.\n",
      "Take a guess.\n",
      "29\n",
      "Hint! Your guess is higher.\n",
      "Take a guess.\n",
      "20\n",
      "Hint! Your guess is smaller.\n",
      "Nope. The number I was thinking of was 22\n"
     ]
    }
   ],
   "source": [
    "'''\n",
    "Question5:\n",
    "Guess the number game\n",
    "Write a program which randomly generate a number between 1 to 30 and ask the user in input field to guess \n",
    "the correct number. Give three chances to user guess the number and also give hint to user if hidden number\n",
    "is greater or smaller than the number he given to input field.\n",
    "'''\n",
    "# This is a guess the number game.\n",
    "import random\n",
    " \n",
    "guessesTaken = 0\n",
    " \n",
    "print('Hello! What is your name?')\n",
    "myName = input()\n",
    " \n",
    "number = random.randint(1, 30)\n",
    "print('Well, ' + myName + ', I am thinking of a number between 1 and 30.')\n",
    "\n",
    "while guessesTaken < 3:\n",
    "     print('Take a guess.') # There are four spaces in front of print.\n",
    "     guess = input()\n",
    "     guess = int(guess)\n",
    "\n",
    "     guessesTaken = guessesTaken + 1\n",
    "\n",
    "     if guess < number:\n",
    "         print('Hint! Your guess is smaller.') # There are eight spaces in front of print    \n",
    "    \n",
    "\n",
    "     if guess > number:\n",
    "         print('Hint! Your guess is higher.')\n",
    "\n",
    "     if guess == number:\n",
    "         break\n",
    "\n",
    "if guess == number:\n",
    "     guessesTaken = str(guessesTaken)\n",
    "     print('Good job, ' + myName + '! You guessed my number in ' + guessesTaken + ' guesses!')\n",
    "\n",
    "if guess != number:\n",
    "     number = str(number)\n",
    "     print('Nope. The number I was thinking of was ' + number)\n"
   ]
  },
  {
   "cell_type": "code",
   "execution_count": null,
   "metadata": {},
   "outputs": [],
   "source": []
  }
 ],
 "metadata": {
  "kernelspec": {
   "display_name": "Python 3",
   "language": "python",
   "name": "python3"
  },
  "language_info": {
   "codemirror_mode": {
    "name": "ipython",
    "version": 3
   },
   "file_extension": ".py",
   "mimetype": "text/x-python",
   "name": "python",
   "nbconvert_exporter": "python",
   "pygments_lexer": "ipython3",
   "version": "3.7.4"
  }
 },
 "nbformat": 4,
 "nbformat_minor": 2
}
